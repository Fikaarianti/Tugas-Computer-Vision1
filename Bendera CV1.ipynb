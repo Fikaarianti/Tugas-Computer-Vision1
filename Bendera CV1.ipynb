{
 "cells": [
  {
   "cell_type": "code",
   "execution_count": 1,
   "id": "a5b8f693-3f37-42e9-9c68-533dc470afc5",
   "metadata": {},
   "outputs": [],
   "source": [
    "import numpy as np\n",
    "import cv2\n",
    "\n",
    "# Ukuran bendera\n",
    "height = 200\n",
    "width = 350\n",
    "\n",
    "# Warna dalam format BGR\n",
    "white = (255, 255, 255)  # Putih\n",
    "red = (0, 0, 255)        # Merah\n",
    "\n",
    "# Membuat latar belakang putih\n",
    "flag = np.zeros((height, width, 3), dtype=np.uint8)\n",
    "\n",
    "# Menggambar dua garis horizontal\n",
    "stripe_height = height // 2\n",
    "flag[:stripe_height, :] = white  # Bagian atas putih\n",
    "flag[stripe_height:, :] = red    # Bagian bawah merah\n",
    "\n",
    "# Menampilkan bendera Polandia\n",
    "cv2.imshow(\"Bendera Polandia\", flag)\n",
    "cv2.waitKey(0)\n",
    "cv2.destroyAllWindows()\n"
   ]
  },
  {
   "cell_type": "code",
   "execution_count": null,
   "id": "63ab26a7-a92a-42a1-88f0-9ff5a6145dcf",
   "metadata": {},
   "outputs": [],
   "source": []
  }
 ],
 "metadata": {
  "kernelspec": {
   "display_name": "Python 3 (ipykernel)",
   "language": "python",
   "name": "python3"
  },
  "language_info": {
   "codemirror_mode": {
    "name": "ipython",
    "version": 3
   },
   "file_extension": ".py",
   "mimetype": "text/x-python",
   "name": "python",
   "nbconvert_exporter": "python",
   "pygments_lexer": "ipython3",
   "version": "3.10.11"
  }
 },
 "nbformat": 4,
 "nbformat_minor": 5
}
